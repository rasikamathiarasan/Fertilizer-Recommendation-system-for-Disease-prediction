{
  "nbformat": 4,
  "nbformat_minor": 0,
  "metadata": {
    "colab": {
      "provenance": []
    },
    "kernelspec": {
      "name": "python3",
      "display_name": "Python 3"
    },
    "language_info": {
      "name": "python"
    }
  },
  "cells": [
    {
      "cell_type": "code",
      "execution_count": null,
      "metadata": {
        "id": "p0KUl9xEwY2V"
      },
      "outputs": [],
      "source": [
        "from keras.preprocessing.image import ImageDataGenerator"
      ]
    },
    {
      "cell_type": "code",
      "source": [
        "train_datagen = ImageDataGenerator (rescale = 1./255, shear_range= 0.2,zoom_range= 0.2, horizontal_flip = True)"
      ],
      "metadata": {
        "id": "j30XC8XBw1vf"
      },
      "execution_count": null,
      "outputs": []
    },
    {
      "cell_type": "code",
      "source": [
        "test_datagen =ImageDataGenerator (rescale = 1)"
      ],
      "metadata": {
        "id": "HpOrL3V3w-kG"
      },
      "execution_count": null,
      "outputs": []
    },
    {
      "cell_type": "code",
      "source": [
        "x_train = train_datagen.flow_from_directory(r'C:\\Users\\Person1\\Desktop\\FILES\\data_for_ibm\\Fertilizers_Recommendation_ System_For_Disease_ Prediction\\Dataset Plant Disease\\fruit-dataset\\fruit-dataset\\test',target_size = (128,128), batch_size = 32, class_mode = 'categorical')\n",
        "x_test = test_datagen.flow_from_directory(r'C:\\Users\\Person1\\Desktop\\FILES\\data_for_ibm\\Fertilizers_Recommendation_ System_For_Disease_ Prediction\\Dataseset Plant Disease\\vegetable-dataset\\vegetable-dataset\\test',target_size(128,128), batch_size = 32, class_mode = 'categorical')"
      ],
      "metadata": {
        "id": "KI-McvhIxIol"
      },
      "execution_count": null,
      "outputs": []
    },
    {
      "cell_type": "markdown",
      "source": [
        "          Found 1345 images belonging to 6 classes.\n",
        "          Found 3253 images belonging to 6 classes."
      ],
      "metadata": {
        "id": "WrwA0NhNyREq"
      }
    },
    {
      "cell_type": "code",
      "source": [
        "x_train = train_datagen.flow_from_directory(r'C:\\Users\\Person1\\Desktop\\FILES\\data_for_ibm\\Fertilizers_Recommendation_ System_For_Disease_ Prediction\\Dataset Plant Disease\\fruit-dataset\\fruit-dataset\\test',target_size = (128,128), batch_size = 32, class_mode = 'categorical')\n",
        "x_test = test_datagen.flow_from_directory(r'C:\\Users\\Person1\\Desktop\\FILES\\data_for_ibm\\Fertilizers_Recommendation_ System_For_Disease_ Prediction\\Dataseset Plant Disease\\vegetable-dataset\\vegetable-dataset\\test',target_size(128,128), batch_size = 32, class_mode = 'categorical')"
      ],
      "metadata": {
        "id": "l2NMQrwTzHM9"
      },
      "execution_count": null,
      "outputs": []
    },
    {
      "cell_type": "markdown",
      "source": [
        "          Found 3126 images belonging to 9 classes.\n",
        "          Found 3126 images belonging to 9 classes."
      ],
      "metadata": {
        "id": "-HxDQ7_izI97"
      }
    }
  ]
}