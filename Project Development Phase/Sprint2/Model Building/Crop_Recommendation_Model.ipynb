{
  "nbformat": 4,
  "nbformat_minor": 0,
  "metadata": {
    "colab": {
      "provenance": []
    },
    "kernelspec": {
      "name": "python3",
      "display_name": "Python 3"
    },
    "language_info": {
      "name": "python"
    }
  },
  "cells": [
    {
      "cell_type": "code",
      "execution_count": null,
      "metadata": {
        "id": "R6eOCfKqXPfV"
      },
      "outputs": [],
      "source": [
        "# Importing libraries\n",
        "\n",
        "from __future__ import print_function\n",
        "import pandas as pd\n",
        "import numpy as np\n",
        "import matplotlib.pyplot as plt\n",
        "import seaborn as sns\n",
        "from sklearn.metrics import classification_report\n",
        "from sklearn import metrics\n",
        "from sklearn import tree\n",
        "import warnings\n",
        "warnings.filterwarnings('ignore')"
      ]
    },
    {
      "cell_type": "code",
      "source": [
        "df = pd.read_csv('../Data-processed/crop-recommendation.csv')"
      ],
      "metadata": {
        "id": "jbTnmOFZX3Ua"
      },
      "execution_count": null,
      "outputs": []
    },
    {
      "cell_type": "code",
      "source": [
        "df.head()"
      ],
      "metadata": {
        "id": "8SZbgE1tX6j2"
      },
      "execution_count": null,
      "outputs": []
    },
    {
      "cell_type": "code",
      "source": [
        "df.tail()"
      ],
      "metadata": {
        "id": "GToV8x61YbWD"
      },
      "execution_count": null,
      "outputs": []
    },
    {
      "cell_type": "code",
      "source": [
        "df.size"
      ],
      "metadata": {
        "id": "aJL_AZUJYL-f"
      },
      "execution_count": null,
      "outputs": []
    },
    {
      "cell_type": "markdown",
      "source": [
        "17600"
      ],
      "metadata": {
        "id": "hZ6eChciZR6S"
      }
    },
    {
      "cell_type": "code",
      "source": [
        "df.shape"
      ],
      "metadata": {
        "id": "miU8sqpBZVQi"
      },
      "execution_count": null,
      "outputs": []
    },
    {
      "cell_type": "markdown",
      "source": [
        "(2200, 8)"
      ],
      "metadata": {
        "id": "MADlVyHjZYHX"
      }
    },
    {
      "cell_type": "code",
      "source": [
        "df.columns"
      ],
      "metadata": {
        "id": "-iwrrZ7rZauW"
      },
      "execution_count": null,
      "outputs": []
    },
    {
      "cell_type": "markdown",
      "source": [
        "Index(['N', 'P', 'K', 'temperature', 'humidity', 'ph', 'rainfall', 'label']dtype='object')\n",
        "\n",
        "\n",
        "\n"
      ],
      "metadata": {
        "id": "3RQSH5bzZehO"
      }
    },
    {
      "cell_type": "code",
      "source": [
        "df['label'].unique()"
      ],
      "metadata": {
        "id": "UPhjw7TnZmA8"
      },
      "execution_count": null,
      "outputs": []
    },
    {
      "cell_type": "markdown",
      "source": [
        "array(['rice', 'maize', 'chickpea', 'kidneybeans', 'pigeonpeas',\n",
        "       'mothbeans', 'mungbean', 'blackgram', 'lentil', 'pomegranate',\n",
        "       'banana', 'mango', 'grapes', 'watermelon', 'muskmelon', 'apple',\n",
        "       'orange', 'papaya', 'coconut', 'cotton', 'jute', 'coffee'],\n",
        "      dtype=object)\n",
        "\n",
        "\n",
        "\n",
        "\n"
      ],
      "metadata": {
        "id": "NIfoljlGbN3f"
      }
    },
    {
      "cell_type": "code",
      "source": [
        "df.dtypes\n"
      ],
      "metadata": {
        "id": "mnloDFzLZ8pS"
      },
      "execution_count": null,
      "outputs": []
    },
    {
      "cell_type": "markdown",
      "source": [
        "N                int64\n",
        "P                int64\n",
        "K                int64\n",
        "temperature    float64\n",
        "humidity       float64\n",
        "ph             float64\n",
        "rainfall       float64\n",
        "label           object\n",
        "dtype: object\n",
        "\n",
        "\n",
        "\n",
        "\n",
        "\n",
        "\n",
        "\n"
      ],
      "metadata": {
        "id": "cJhybFM1bUom"
      }
    },
    {
      "cell_type": "code",
      "source": [
        "df['label'].value_counts()"
      ],
      "metadata": {
        "id": "9z7oenJVaJF6"
      },
      "execution_count": null,
      "outputs": []
    },
    {
      "cell_type": "code",
      "source": [
        "sns.heatmap(df.corr(),annot=True)"
      ],
      "metadata": {
        "id": "G6G2A9lVbc5i"
      },
      "execution_count": null,
      "outputs": []
    },
    {
      "cell_type": "markdown",
      "source": [
        "![image.png](data:image/png;base64,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)\n",
        "\n",
        "\n",
        "\n",
        "\n",
        "\n",
        "\n",
        "\n",
        "\n",
        "\n",
        "\n",
        "\n"
      ],
      "metadata": {
        "id": "ryqCUHLTcS0i"
      }
    },
    {
      "cell_type": "markdown",
      "source": [
        "Seperating features and target label\n",
        "\n",
        "\n",
        "\n",
        "\n",
        "\n",
        "\n",
        "\n",
        "\n",
        "\n",
        "\n",
        "\n",
        "\n"
      ],
      "metadata": {
        "id": "vyVCXhRLbmEH"
      }
    },
    {
      "cell_type": "code",
      "source": [
        "features = df[['N', 'P','K','temperature', 'humidity', 'ph', 'rainfall']]\n",
        "target = df['label']\n",
        "#features = df[['temperature', 'humidity', 'ph', 'rainfall']]\n",
        "labels = df['label']"
      ],
      "metadata": {
        "id": "1WV3a1J9cHNY"
      },
      "execution_count": null,
      "outputs": []
    },
    {
      "cell_type": "code",
      "source": [
        "# Initialzing empty lists to append all model's name and corresponding name\n",
        "acc = []\n",
        "model = []"
      ],
      "metadata": {
        "id": "6Nw7njxlcuFl"
      },
      "execution_count": null,
      "outputs": []
    },
    {
      "cell_type": "code",
      "source": [
        "# Splitting into train and test data\n",
        "\n",
        "from sklearn.model_selection import train_test_split\n",
        "Xtrain, Xtest, Ytrain, Ytest = train_test_split(features,target,test_size = 0.2,random_state =2)"
      ],
      "metadata": {
        "id": "7LNyjlJtczy5"
      },
      "execution_count": null,
      "outputs": []
    },
    {
      "cell_type": "markdown",
      "source": [
        "\n",
        "\n",
        "Decision Tree"
      ],
      "metadata": {
        "id": "uPs3la2nc22v"
      }
    },
    {
      "cell_type": "code",
      "source": [
        "from sklearn.tree import DecisionTreeClassifier\n",
        "\n",
        "DecisionTree = DecisionTreeClassifier(criterion=\"entropy\",random_state=2,max_depth=5)\n",
        "\n",
        "DecisionTree.fit(Xtrain,Ytrain)\n",
        "\n",
        "predicted_values = DecisionTree.predict(Xtest)\n",
        "x = metrics.accuracy_score(Ytest, predicted_values)\n",
        "acc.append(x)\n",
        "model.append('Decision Tree')\n",
        "print(\"DecisionTrees's Accuracy is: \", x*100)\n",
        "\n",
        "print(classification_report(Ytest,predicted_values))"
      ],
      "metadata": {
        "id": "BCeU80DFc_Mf"
      },
      "execution_count": null,
      "outputs": []
    },
    {
      "cell_type": "code",
      "source": [
        "from sklearn.model_selection import cross_val_score"
      ],
      "metadata": {
        "id": "Va6REGs7dKBr"
      },
      "execution_count": null,
      "outputs": []
    },
    {
      "cell_type": "code",
      "source": [
        "# Cross validation score (Decision Tree)\n",
        "score = cross_val_score(DecisionTree, features, target,cv=5)"
      ],
      "metadata": {
        "id": "bFvaJSxDdVIv"
      },
      "execution_count": null,
      "outputs": []
    },
    {
      "cell_type": "code",
      "source": [
        "score"
      ],
      "metadata": {
        "id": "wclibSsydXrQ"
      },
      "execution_count": null,
      "outputs": []
    },
    {
      "cell_type": "markdown",
      "source": [
        "array([0.93636364, 0.90909091, 0.91818182, 0.87045455, 0.93636364])"
      ],
      "metadata": {
        "id": "IGksfNB5da59"
      }
    },
    {
      "cell_type": "markdown",
      "source": [
        "Saving trained Decision Tree model"
      ],
      "metadata": {
        "id": "fYGahHfMdeAm"
      }
    },
    {
      "cell_type": "code",
      "source": [
        "import pickle\n",
        "# Dump the trained Naive Bayes classifier with Pickle\n",
        "DT_pkl_filename = '../models/DecisionTree.pkl'\n",
        "# Open the file to save as pkl file\n",
        "DT_Model_pkl = open(DT_pkl_filename, 'wb')\n",
        "pickle.dump(DecisionTree, DT_Model_pkl)\n",
        "# Close the pickle instances\n",
        "DT_Model_pkl.close()"
      ],
      "metadata": {
        "id": "2M--R7Lkdg0y"
      },
      "execution_count": null,
      "outputs": []
    },
    {
      "cell_type": "markdown",
      "source": [
        "**Guassian Naive Bayes**"
      ],
      "metadata": {
        "id": "ZCSNYD85d6As"
      }
    },
    {
      "cell_type": "code",
      "source": [
        "from sklearn.naive_bayes import GaussianNB\n",
        "\n",
        "NaiveBayes = GaussianNB()\n",
        "\n",
        "NaiveBayes.fit(Xtrain,Ytrain)\n",
        "\n",
        "predicted_values = NaiveBayes.predict(Xtest)\n",
        "x = metrics.accuracy_score(Ytest, predicted_values)\n",
        "acc.append(x)\n",
        "model.append('Naive Bayes')\n",
        "print(\"Naive Bayes's Accuracy is: \", x)\n",
        "\n",
        "print(classification_report(Ytest,predicted_values))"
      ],
      "metadata": {
        "id": "BK3X2mpfdpSk"
      },
      "execution_count": null,
      "outputs": []
    },
    {
      "cell_type": "code",
      "source": [
        "# Cross validation score (NaiveBayes)\n",
        "score = cross_val_score(NaiveBayes,features,target,cv=5)\n",
        "score"
      ],
      "metadata": {
        "id": "dfKV8kJReRpZ"
      },
      "execution_count": null,
      "outputs": []
    },
    {
      "cell_type": "markdown",
      "source": [
        "array([0.99772727, 0.99545455, 0.99545455, 0.99545455, 0.99090909])"
      ],
      "metadata": {
        "id": "oG8IOtA2eW1h"
      }
    },
    {
      "cell_type": "markdown",
      "source": [
        "**Saving trained Guassian Naive Bayes model**"
      ],
      "metadata": {
        "id": "SdMGWDiueZwS"
      }
    },
    {
      "cell_type": "code",
      "source": [
        "import pickle\n",
        "# Dump the trained Naive Bayes classifier with Pickle\n",
        "NB_pkl_filename = '../models/NBClassifier.pkl'\n",
        "# Open the file to save as pkl file\n",
        "NB_Model_pkl = open(NB_pkl_filename, 'wb')\n",
        "pickle.dump(NaiveBayes, NB_Model_pkl)\n",
        "# Close the pickle instances\n",
        "NB_Model_pkl.close()"
      ],
      "metadata": {
        "id": "1tzvwje_fE-d"
      },
      "execution_count": null,
      "outputs": []
    },
    {
      "cell_type": "markdown",
      "source": [
        "**Support Vector Machine (SVM)**"
      ],
      "metadata": {
        "id": "XhNOg4OEfqGq"
      }
    },
    {
      "cell_type": "code",
      "source": [
        "from sklearn.svm import SVC\n",
        "# data normalization with sklearn\n",
        "from sklearn.preprocessing import MinMaxScaler\n",
        "# fit scaler on training data\n",
        "norm = MinMaxScaler().fit(Xtrain)\n",
        "X_train_norm = norm.transform(Xtrain)\n",
        "# transform testing dataabs\n",
        "X_test_norm = norm.transform(Xtest)\n",
        "SVM = SVC(kernel='poly', degree=3, C=1)\n",
        "SVM.fit(X_train_norm,Ytrain)\n",
        "predicted_values = SVM.predict(X_test_norm)\n",
        "x = metrics.accuracy_score(Ytest, predicted_values)\n",
        "acc.append(x)\n",
        "model.append('SVM')\n",
        "print(\"SVM's Accuracy is: \", x)\n",
        "\n",
        "print(classification_report(Ytest,predicted_values))"
      ],
      "metadata": {
        "id": "QNa7Iu5tfxdJ"
      },
      "execution_count": null,
      "outputs": []
    },
    {
      "cell_type": "code",
      "source": [
        "# Cross validation score (SVM)\n",
        "score = cross_val_score(SVM,features,target,cv=5)\n",
        "score"
      ],
      "metadata": {
        "id": "a7grtKvWf10X"
      },
      "execution_count": null,
      "outputs": []
    },
    {
      "cell_type": "markdown",
      "source": [
        "array([0.97954545, 0.975     , 0.98863636, 0.98863636, 0.98181818])"
      ],
      "metadata": {
        "id": "bwDfOAO_f4xf"
      }
    },
    {
      "cell_type": "code",
      "source": [
        "#Saving trained SVM model"
      ],
      "metadata": {
        "id": "sJZAkMDZf8L8"
      },
      "execution_count": null,
      "outputs": []
    },
    {
      "cell_type": "code",
      "source": [
        "import pickle\n",
        "# Dump the trained SVM classifier with Pickle\n",
        "SVM_pkl_filename = '../models/SVMClassifier.pkl'\n",
        "# Open the file to save as pkl file\n",
        "SVM_Model_pkl = open(SVM_pkl_filename, 'wb')\n",
        "pickle.dump(SVM, SVM_Model_pkl)\n",
        "# Close the pickle instances\n",
        "SVM_Model_pkl.close()"
      ],
      "metadata": {
        "id": "yqnXro8tf_At"
      },
      "execution_count": null,
      "outputs": []
    },
    {
      "cell_type": "markdown",
      "source": [
        "**Logistic Regression**"
      ],
      "metadata": {
        "id": "ByllyUsYgKvL"
      }
    },
    {
      "cell_type": "code",
      "source": [
        "from sklearn.linear_model import LogisticRegression\n",
        "\n",
        "LogReg = LogisticRegression(random_state=2)\n",
        "\n",
        "LogReg.fit(Xtrain,Ytrain)\n",
        "\n",
        "predicted_values = LogReg.predict(Xtest)\n",
        "\n",
        "x = metrics.accuracy_score(Ytest, predicted_values)\n",
        "acc.append(x)\n",
        "model.append('Logistic Regression')\n",
        "print(\"Logistic Regression's Accuracy is: \", x)\n",
        "\n",
        "print(classification_report(Ytest,predicted_values))"
      ],
      "metadata": {
        "id": "UBA8-ddngQ5t"
      },
      "execution_count": null,
      "outputs": []
    },
    {
      "cell_type": "code",
      "source": [
        "# Cross validation score (Logistic Regression)\n",
        "score = cross_val_score(LogReg,features,target,cv=5)\n",
        "score"
      ],
      "metadata": {
        "id": "Qog5YgRXgZY_"
      },
      "execution_count": null,
      "outputs": []
    },
    {
      "cell_type": "markdown",
      "source": [
        "array([0.95      , 0.96590909, 0.94772727, 0.96590909, 0.94318182])"
      ],
      "metadata": {
        "id": "IKyzMnocgcMI"
      }
    },
    {
      "cell_type": "markdown",
      "source": [
        "**Saving trained Logistic Regression model**"
      ],
      "metadata": {
        "id": "a2eowWiZge10"
      }
    },
    {
      "cell_type": "code",
      "source": [
        "import pickle\n",
        "# Dump the trained Naive Bayes classifier with Pickle\n",
        "LR_pkl_filename = '../models/LogisticRegression.pkl'\n",
        "# Open the file to save as pkl file\n",
        "LR_Model_pkl = open(DT_pkl_filename, 'wb')\n",
        "pickle.dump(LogReg, LR_Model_pkl)\n",
        "# Close the pickle instances\n",
        "LR_Model_pkl.close()"
      ],
      "metadata": {
        "id": "IHURZ2qSgifx"
      },
      "execution_count": null,
      "outputs": []
    },
    {
      "cell_type": "markdown",
      "source": [
        "**Random Forest**\n"
      ],
      "metadata": {
        "id": "aAx0nvl4glEO"
      }
    },
    {
      "cell_type": "code",
      "source": [
        "from sklearn.ensemble import RandomForestClassifier\n",
        "\n",
        "RF = RandomForestClassifier(n_estimators=20, random_state=0)\n",
        "RF.fit(Xtrain,Ytrain)\n",
        "\n",
        "predicted_values = RF.predict(Xtest)\n",
        "\n",
        "x = metrics.accuracy_score(Ytest, predicted_values)\n",
        "acc.append(x)\n",
        "model.append('RF')\n",
        "print(\"RF's Accuracy is: \", x)\n",
        "\n",
        "print(classification_report(Ytest,predicted_values))"
      ],
      "metadata": {
        "id": "_yatnR6vgqMD"
      },
      "execution_count": null,
      "outputs": []
    },
    {
      "cell_type": "code",
      "source": [
        "# Cross validation score (Random Forest)\n",
        "score = cross_val_score(RF,features,target,cv=5)\n",
        "score"
      ],
      "metadata": {
        "id": "4QYuK8_ogt5h"
      },
      "execution_count": null,
      "outputs": []
    },
    {
      "cell_type": "markdown",
      "source": [
        "array([0.99772727, 0.99545455, 0.99772727, 0.99318182, 0.98863636])"
      ],
      "metadata": {
        "id": "XJ_uLW-8gw7M"
      }
    },
    {
      "cell_type": "markdown",
      "source": [
        "**Saving trained Random Forest model**"
      ],
      "metadata": {
        "id": "srT_FsYygzUs"
      }
    },
    {
      "cell_type": "code",
      "source": [
        "import pickle\n",
        "# Dump the trained Naive Bayes classifier with Pickle\n",
        "RF_pkl_filename = '../models/RandomForest.pkl'\n",
        "# Open the file to save as pkl file\n",
        "RF_Model_pkl = open(RF_pkl_filename, 'wb')\n",
        "pickle.dump(RF, RF_Model_pkl)\n",
        "# Close the pickle instances\n",
        "RF_Model_pkl.close()"
      ],
      "metadata": {
        "id": "A0yEQrg7g29L"
      },
      "execution_count": null,
      "outputs": []
    },
    {
      "cell_type": "markdown",
      "source": [
        "**XGBoost**\n"
      ],
      "metadata": {
        "id": "OKvR8WUpg5SC"
      }
    },
    {
      "cell_type": "code",
      "source": [
        "import xgboost as xgb\n",
        "XB = xgb.XGBClassifier()\n",
        "XB.fit(Xtrain,Ytrain)\n",
        "\n",
        "predicted_values = XB.predict(Xtest)\n",
        "\n",
        "x = metrics.accuracy_score(Ytest, predicted_values)\n",
        "acc.append(x)\n",
        "model.append('XGBoost')\n",
        "print(\"XGBoost's Accuracy is: \", x)\n",
        "\n",
        "print(classification_report(Ytest,predicted_values))"
      ],
      "metadata": {
        "id": "IY_vh43ghBoR"
      },
      "execution_count": null,
      "outputs": []
    },
    {
      "cell_type": "code",
      "source": [
        "# Cross validation score (XGBoost)\n",
        "score = cross_val_score(XB,features,target,cv=5)\n",
        "score"
      ],
      "metadata": {
        "id": "oUPgJcxwhF-z"
      },
      "execution_count": null,
      "outputs": []
    },
    {
      "cell_type": "markdown",
      "source": [
        "**Saving trained XGBoost model**"
      ],
      "metadata": {
        "id": "uoGjLvOthZaF"
      }
    },
    {
      "cell_type": "code",
      "source": [
        "import pickle\n",
        "# Dump the trained Naive Bayes classifier with Pickle\n",
        "XB_pkl_filename = '../models/XGBoost.pkl'\n",
        "# Open the file to save as pkl file\n",
        "XB_Model_pkl = open(XB_pkl_filename, 'wb')\n",
        "pickle.dump(XB, XB_Model_pkl)\n",
        "# Close the pickle instances\n",
        "XB_Model_pkl.close()"
      ],
      "metadata": {
        "id": "EQXNsnDmhejD"
      },
      "execution_count": null,
      "outputs": []
    },
    {
      "cell_type": "markdown",
      "source": [
        "**Accuracy Comparison**"
      ],
      "metadata": {
        "id": "cdDit7j-hhUf"
      }
    },
    {
      "cell_type": "code",
      "source": [
        "plt.figure(figsize=[10,5],dpi = 100)\n",
        "plt.title('Accuracy Comparison')\n",
        "plt.xlabel('Accuracy')\n",
        "plt.ylabel('Algorithm')\n",
        "sns.barplot(x = acc,y = model,palette='dark')"
      ],
      "metadata": {
        "id": "DTzaTFaEhm12"
      },
      "execution_count": null,
      "outputs": []
    },
    {
      "cell_type": "markdown",
      "source": [
        "![image.png](data:image/png;base64,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)\n",
        "\n",
        "\n",
        "\n",
        "\n"
      ],
      "metadata": {
        "id": "voDuHRGOhqtx"
      }
    },
    {
      "cell_type": "code",
      "source": [
        "accuracy_models = dict(zip(model, acc))\n",
        "for k, v in accuracy_models.items():\n",
        "    print (k, '-->', v)"
      ],
      "metadata": {
        "id": "MeymTKgdh5gV"
      },
      "execution_count": null,
      "outputs": []
    },
    {
      "cell_type": "markdown",
      "source": [
        "Decision Tree --> 0.9\n",
        "Naive Bayes --> 0.990909090909091\n",
        "SVM --> 0.9795454545454545\n",
        "Logistic Regression --> 0.9522727272727273\n",
        "RF --> 0.990909090909091\n",
        "XGBoost --> 0.9931818181818182"
      ],
      "metadata": {
        "id": "6hZZLjZAh-ic"
      }
    },
    {
      "cell_type": "markdown",
      "source": [
        "**Making a prediction**"
      ],
      "metadata": {
        "id": "8D_ztD-niBxy"
      }
    },
    {
      "cell_type": "code",
      "source": [
        "data = np.array([[104,18, 30, 23.603016, 60.3, 6.7, 140.91]])\n",
        "prediction = RF.predict(data)\n",
        "print(prediction)"
      ],
      "metadata": {
        "id": "XJMkhjj0iK3H"
      },
      "execution_count": null,
      "outputs": []
    },
    {
      "cell_type": "markdown",
      "source": [
        "['coffee']"
      ],
      "metadata": {
        "id": "19cwtLRSiOXq"
      }
    },
    {
      "cell_type": "code",
      "source": [
        "data = np.array([[83, 45, 60, 28, 70.3, 7.0, 150.9]])\n",
        "prediction = RF.predict(data)\n",
        "print(prediction)"
      ],
      "metadata": {
        "id": "jpYH6qzpiRkA"
      },
      "execution_count": null,
      "outputs": []
    },
    {
      "cell_type": "markdown",
      "source": [
        "['jute']"
      ],
      "metadata": {
        "id": "SiPkfBoGiU-j"
      }
    },
    {
      "cell_type": "markdown",
      "source": [],
      "metadata": {
        "id": "rwQ9D3W6bkA-"
      }
    }
  ]
}